{
  "nbformat": 4,
  "nbformat_minor": 0,
  "metadata": {
    "accelerator": "GPU",
    "colab": {
      "name": "task_1_colab.ipynb",
      "provenance": [],
      "collapsed_sections": []
    },
    "kernelspec": {
      "display_name": "Python 3",
      "name": "python3"
    }
  },
  "cells": [
    {
      "cell_type": "markdown",
      "metadata": {
        "id": "sL7FFzDThoPj"
      },
      "source": [
        "## Task 1: Facial Emotion Detection"
      ]
    },
    {
      "cell_type": "markdown",
      "metadata": {
        "id": "A7SkZWZBauAm"
      },
      "source": [
        "model.py"
      ]
    },
    {
      "cell_type": "code",
      "metadata": {
        "colab": {
          "base_uri": "https://localhost:8080/"
        },
        "id": "hLR7M72Eb8fF",
        "outputId": "668fded9-693c-4aa6-9027-bdac5135f5be"
      },
      "source": [
        "from google.colab import drive\n",
        "drive.mount('/content/drive')"
      ],
      "execution_count": 1,
      "outputs": [
        {
          "output_type": "stream",
          "text": [
            "Drive already mounted at /content/drive; to attempt to forcibly remount, call drive.mount(\"/content/drive\", force_remount=True).\n"
          ],
          "name": "stdout"
        }
      ]
    },
    {
      "cell_type": "code",
      "metadata": {
        "id": "yhMIxIU4dsFz"
      },
      "source": [
        "import os\n",
        "os.chdir(r'/content/drive/MyDrive')"
      ],
      "execution_count": 2,
      "outputs": []
    },
    {
      "cell_type": "code",
      "metadata": {
        "id": "xbUCXEDjusX3"
      },
      "source": [
        "import torch\n",
        "import torch.nn as nn\n",
        "import torchvision\n",
        "import torchsummary\n",
        "import torchvision.transforms as transforms\n",
        "from torchvision.transforms import ToTensor\n",
        "from torch.utils.data import DataLoader\n",
        "import numpy as np\n",
        "from PIL import Image\n",
        "import matplotlib.pyplot as plt\n",
        "from tqdm import tqdm\n",
        "import time\n",
        "import csv\n",
        "import os.path as osp\n",
        "\n",
        "import cv2\n",
        "import matplotlib.cm as cm\n",
        "import torch.hub\n",
        "import os\n",
        "from torchvision import transforms\n",
        "from torchsummary import summary"
      ],
      "execution_count": 3,
      "outputs": []
    },
    {
      "cell_type": "code",
      "metadata": {
        "id": "wyB7dzC9tlkP"
      },
      "source": [
        "class SeparableConv2d(nn.Module):\n",
        "\n",
        "  def __init__(self, in_channels, out_channels, kernel_size=1, stride=1, padding=0, dilation=1, bias=False):\n",
        "    super(SeparableConv2d, self).__init__()\n",
        "    self.depthwise = nn.Conv2d(in_channels, in_channels, kernel_size, stride, padding, dilation, groups=in_channels,\n",
        "                               bias=bias)\n",
        "    self.pointwise = nn.Conv2d(in_channels, out_channels, 1, 1, 0, 1, 1, bias=bias)\n",
        "\n",
        "  def forward(self, x):\n",
        "    x = self.depthwise(x)\n",
        "    x = self.pointwise(x)\n",
        "    return x\n",
        "\n",
        "\n",
        "class ResidualBlock(nn.Module):\n",
        "\n",
        "  def __init__(self, in_channels, out_channels):\n",
        "    super(ResidualBlock, self).__init__()\n",
        "\n",
        "    self.residual_conv = nn.Conv2d(in_channels=in_channels, out_channels=out_channels, kernel_size=1, stride=2,\n",
        "                                  bias=False)\n",
        "    self.residual_bn = nn.BatchNorm2d(out_channels, momentum=0.99, eps=1e-3)\n",
        "\n",
        "    self.sepConv1 = SeparableConv2d(in_channels=in_channels, out_channels=out_channels, kernel_size=3, bias=False,\n",
        "                                    padding=1)\n",
        "    self.bn1 = nn.BatchNorm2d(out_channels, momentum=0.99, eps=1e-3)\n",
        "    self.relu = nn.ReLU()\n",
        "\n",
        "    self.sepConv2 = SeparableConv2d(in_channels=out_channels, out_channels=out_channels, kernel_size=3, bias=False,\n",
        "                                    padding=1)\n",
        "    self.bn2 = nn.BatchNorm2d(out_channels, momentum=0.99, eps=1e-3)\n",
        "    self.maxp = nn.MaxPool2d(kernel_size=3, stride=2, padding=1)\n",
        "\n",
        "  def forward(self, x):\n",
        "    res = self.residual_conv(x)\n",
        "    res = self.residual_bn(res)\n",
        "    x = self.sepConv1(x)\n",
        "    x = self.bn1(x)\n",
        "    x = self.relu(x)\n",
        "    x = self.sepConv2(x)\n",
        "    x = self.bn2(x)\n",
        "    x = self.maxp(x)\n",
        "    return res + x"
      ],
      "execution_count": 4,
      "outputs": []
    },
    {
      "cell_type": "markdown",
      "metadata": {
        "id": "07XX2G7miA9-"
      },
      "source": [
        "### 1."
      ]
    },
    {
      "cell_type": "code",
      "metadata": {
        "id": "i0PSeCRTrq-t"
      },
      "source": [
        "class Model(nn.Module):\n",
        "\n",
        "  def __init__(self, num_classes):\n",
        "    super(Model, self).__init__()\n",
        "    # use for Xception model\n",
        "    ####### ENTER YOUR CODE HERE #######\n",
        "    self.conv2d_1 = nn.Conv2d(in_channels=1, out_channels=8, kernel_size=3, stride=1)\n",
        "    self.bn1 = nn.BatchNorm2d(8, momentum=0.99, eps=1e-3)\n",
        "    self.relu1 = nn.ReLU()\n",
        "\n",
        "    self.conv2d_2 = nn.Conv2d(in_channels=8, out_channels=8, kernel_size=3, stride=1)\n",
        "    self.bn2 = nn.BatchNorm2d(8, momentum=0.99, eps=1e-3)\n",
        "    self.relu2 = nn.ReLU()\n",
        "\n",
        "    self.rb1 = ResidualBlock(in_channels=8, out_channels=16)\n",
        "    self.rb2 = ResidualBlock(in_channels=16, out_channels=32)\n",
        "    self.rb3 = ResidualBlock(in_channels=32, out_channels=64)\n",
        "    self.rb4 = ResidualBlock(in_channels=64, out_channels=128)\n",
        "\n",
        "    self.conv2d_3 = nn.Conv2d(in_channels=128, out_channels=num_classes, kernel_size=3, padding=1, stride=1)\n",
        "\n",
        "    self.adAvPool = nn.AdaptiveAvgPool2d((1,1))\n",
        "    ####################################\n",
        "\n",
        "  def forward(self, input):\n",
        "    # use for Xception model\n",
        "    ####### ENTER YOUR CODE HERE #######\n",
        "    x = self.conv2d_1(input)\n",
        "    x = self.bn1(x)\n",
        "    x = self.relu1(x)\n",
        "\n",
        "    x = self.conv2d_2(x)\n",
        "    x = self.bn2(x)\n",
        "    x = self.relu2(x)\n",
        "\n",
        "    x = self.rb1(x)\n",
        "    x = self.rb2(x)\n",
        "    x = self.rb3(x)\n",
        "    x = self.rb4(x)\n",
        "    \n",
        "    x = self.conv2d_3(x)\n",
        "    x = self.adAvPool(x)\n",
        "    x = torch.squeeze(x) # (128,7)\n",
        "    \n",
        "    return x"
      ],
      "execution_count": 5,
      "outputs": []
    },
    {
      "cell_type": "markdown",
      "metadata": {
        "id": "ndU6KLvwaxry"
      },
      "source": [
        "train.py"
      ]
    },
    {
      "cell_type": "code",
      "metadata": {
        "id": "-3ms8EEKuhz1"
      },
      "source": [
        "start_time = time.time()\n",
        "\n",
        "if not torch.cuda.is_available():\n",
        "  from torchsummary import summary\n",
        "\n",
        "device = torch.device('cuda' if torch.cuda.is_available() else 'cpu')\n",
        "\n",
        "shape = (44, 44)\n",
        "\n",
        "\n",
        "class DataSetFactory:\n",
        "\n",
        "  def __init__(self):\n",
        "    images = []\n",
        "    emotions = []\n",
        "    private_images = []\n",
        "    private_emotions = []\n",
        "    public_images = []\n",
        "    public_emotions = []\n",
        "\n",
        "    # with open('../dataset/fer2013.csv', 'r') as csvin:\n",
        "    with open('fer2013.csv', 'r') as csvin:\n",
        "      data = csv.reader(csvin)\n",
        "      next(data)\n",
        "      for row in data:\n",
        "        face = [int(pixel) for pixel in row[1].split()]\n",
        "        face = np.asarray(face).reshape(48, 48)\n",
        "        face = face.astype('uint8')\n",
        "\n",
        "        if row[-1] == 'Training':\n",
        "          emotions.append(int(row[0]))\n",
        "          images.append(Image.fromarray(face))\n",
        "        elif row[-1] == \"PrivateTest\":\n",
        "          private_emotions.append(int(row[0]))\n",
        "          private_images.append(Image.fromarray(face))\n",
        "        elif row[-1] == \"PublicTest\":\n",
        "          public_emotions.append(int(row[0]))\n",
        "          public_images.append(Image.fromarray(face))\n",
        "\n",
        "    print('training size %d : private val size %d : public val size %d' % (\n",
        "        len(images), len(private_images), len(public_images)))\n",
        "    train_transform = transforms.Compose([\n",
        "        transforms.RandomCrop(shape[0]),\n",
        "        transforms.RandomHorizontalFlip(),\n",
        "        ToTensor(),\n",
        "    ])\n",
        "    val_transform = transforms.Compose([\n",
        "        transforms.CenterCrop(shape[0]),\n",
        "        ToTensor(),\n",
        "    ])\n",
        "\n",
        "    self.training = DataSet(transform=train_transform, images=images, emotions=emotions)\n",
        "    self.private = DataSet(transform=val_transform, images=private_images, emotions=private_emotions)\n",
        "    self.public = DataSet(transform=val_transform, images=public_images, emotions=public_emotions)"
      ],
      "execution_count": 6,
      "outputs": []
    },
    {
      "cell_type": "markdown",
      "metadata": {
        "id": "VEPAMdSSiGu9"
      },
      "source": [
        "### 2."
      ]
    },
    {
      "cell_type": "code",
      "metadata": {
        "id": "nfl-swWsurhE"
      },
      "source": [
        "class DataSet(torch.utils.data.Dataset):\n",
        "\n",
        "  def __init__(self, transform=None, images=None, emotions=None):\n",
        "    self.transform = transform\n",
        "    self.images = images\n",
        "    self.emotions = emotions\n",
        "\n",
        "  def __getitem__(self, index):\n",
        "    image = self.images[index]\n",
        "    emotion = self.emotions[index]\n",
        "    if self.transform is not None:\n",
        "      image = self.transform(image)\n",
        "    return image, emotion\n",
        "\n",
        "  def __len__(self):\n",
        "    return len(self.images)\n",
        "\n",
        "\n",
        "def plot_loss(losses, name):\n",
        "  # use for loss plot\n",
        "  ####### ENTER YOUR CODE HERE #######\n",
        "  plt.figure()\n",
        "  t = np.arange(len(losses))\n",
        "  plt.plot(t, losses, color='red')\n",
        "  plt.xlabel('Epoch')\n",
        "  plt.ylabel('Loss')\n",
        "  plt.title(name+' loss')\n",
        "\n",
        "def plot_acc(accs, name):\n",
        "  # use for acc plot\n",
        "  ####### ENTER YOUR CODE HERE #######\n",
        "  plt.figure()\n",
        "  t = np.arange(len(accs))\n",
        "  plt.plot(t, accs, color='green')\n",
        "  plt.xlabel('Epoch')\n",
        "  plt.ylabel('Accuracy')\n",
        "  plt.title(name+' accuracy')"
      ],
      "execution_count": 28,
      "outputs": []
    },
    {
      "cell_type": "code",
      "metadata": {
        "id": "ytGoc_-earwU"
      },
      "source": [
        "def main():\n",
        "  # variables  -------------\n",
        "  batch_size = 128\n",
        "  lr = 0.01\n",
        "  epochs = 20\n",
        "  learning_rate_decay_start = 80\n",
        "  learning_rate_decay_every = 5\n",
        "  learning_rate_decay_rate = 0.9\n",
        "  # Add variables\n",
        "  train_losses = []\n",
        "  train_accs = []\n",
        "\n",
        "  p_test_losses = []\n",
        "  p_test_accs = []\n",
        "  # ------------------------\n",
        "\n",
        "  classes = ['Angry', 'Disgust', 'Fear', 'Happy', 'Sad', 'Surprise', 'Neutral']\n",
        "  # network = model.Model(num_classes=len(classes)).to(device)\n",
        "  network = Model(num_classes=len(classes)).to(device)\n",
        "  if not torch.cuda.is_available():\n",
        "    summary(network, (1, shape[0], shape[1]))\n",
        "\n",
        "  optimizer = torch.optim.SGD(network.parameters(), lr=lr, momentum=0.9, weight_decay=5e-3)\n",
        "  criterion = nn.CrossEntropyLoss()\n",
        "  factory = DataSetFactory()\n",
        "\n",
        "  training_loader = DataLoader(factory.training, batch_size=batch_size, shuffle=True, num_workers=1)\n",
        "  validation_loader = {\n",
        "    'private': DataLoader(factory.private, batch_size=batch_size, shuffle=True, num_workers=1),\n",
        "    'public': DataLoader(factory.public, batch_size=batch_size, shuffle=True, num_workers=1)\n",
        "  }\n",
        "\n",
        "  min_validation_loss = {\n",
        "    'private': 10000,\n",
        "    'public': 10000,\n",
        "  }\n",
        "\n",
        "  for epoch in tqdm(range(epochs)):\n",
        "    network.train()\n",
        "    total = 0\n",
        "    correct = 0\n",
        "    total_train_loss = 0\n",
        "    if epoch > learning_rate_decay_start and learning_rate_decay_start >= 0:\n",
        "      frac = (epoch - learning_rate_decay_start) // learning_rate_decay_every\n",
        "      decay_factor = learning_rate_decay_rate ** frac\n",
        "      current_lr = lr * decay_factor\n",
        "      for group in optimizer.param_groups:\n",
        "        group['lr'] = current_lr\n",
        "    else:\n",
        "      current_lr = lr\n",
        "\n",
        "    print('learning_rate: %s' % str(current_lr))\n",
        "    for i, (x_train, y_train) in enumerate(training_loader):\n",
        "      optimizer.zero_grad()\n",
        "      x_train = x_train.to(device)\n",
        "      y_train = y_train.to(device)\n",
        "      y_predicted = network(x_train)\n",
        "      loss = criterion(y_predicted, y_train)\n",
        "      loss.backward()\n",
        "      optimizer.step()\n",
        "      _, predicted = torch.max(y_predicted.data, 1)\n",
        "      total_train_loss += loss.data\n",
        "      total += y_train.size(0)\n",
        "      correct += predicted.eq(y_train.data).sum()\n",
        "    accuracy = 100. * float(correct) / total\n",
        "    print('Epoch [%d/%d] Training Loss: %.4f, Accuracy: %.4f' % (\n",
        "      epoch + 1, epochs, total_train_loss / (i + 1), accuracy))\n",
        "    \n",
        "    # Record train loss\n",
        "    train_losses.append(total_train_loss / (i + 1))\n",
        "    # Record train acc\n",
        "    train_accs.append(accuracy)\n",
        "    \n",
        "\n",
        "    network.eval()\n",
        "    with torch.no_grad():\n",
        "      # Added \n",
        "      total_p = 0\n",
        "      correct_p = 0\n",
        "      total_validation_loss_p = 0\n",
        "      p_count = 0\n",
        "      accuracy_p = 0\n",
        "      for name in ['private', 'public']:\n",
        "        total = 0\n",
        "        correct = 0\n",
        "        total_validation_loss = 0\n",
        "        \n",
        "        for j, (x_val, y_val) in enumerate(validation_loader[name]):\n",
        "          x_val = x_val.to(device)\n",
        "          y_val = y_val.to(device)\n",
        "          y_val_predicted = network(x_val)\n",
        "          val_loss = criterion(y_val_predicted, y_val)\n",
        "          _, predicted = torch.max(y_val_predicted.data, 1)\n",
        "          total_validation_loss += val_loss.data\n",
        "          # Only record private\n",
        "          if name == 'private':\n",
        "            total_validation_loss_p += val_loss.data\n",
        "            p_count += 1\n",
        "            total_p += y_val.size(0)\n",
        "            correct_p += predicted.eq(y_val.data).sum()\n",
        "\n",
        "          total += y_val.size(0)\n",
        "          correct += predicted.eq(y_val.data).sum()\n",
        "\n",
        "        accuracy = 100. * float(correct) / total\n",
        "        if name =='private':\n",
        "          accuracy_p = 100. * float(correct_p) / total_p\n",
        "        \n",
        "        if total_validation_loss <= min_validation_loss[name]:\n",
        "          if epoch >= 10:\n",
        "            print('saving new model')\n",
        "            state = {'net': network.state_dict()}\n",
        "            # torch.save(state, '../trained/%s_model_%d_%d.t7' % (name, epoch + 1, accuracy))\n",
        "            torch.save(state, 'trained/%s_model_%d_%d.t7' % (name, epoch + 1, accuracy))\n",
        "          min_validation_loss[name] = total_validation_loss\n",
        "\n",
        "        print('Epoch [%d/%d] %s validation Loss: %.4f, Accuracy: %.4f' % (\n",
        "          epoch + 1, epochs, name, total_validation_loss / (j + 1), accuracy))\n",
        "        \n",
        "        # Record private test loss\n",
        "        if name == 'private':\n",
        "          p_test_losses.append(total_validation_loss_p / p_count)\n",
        "          p_test_accs.append(accuracy_p)\n",
        "\n",
        "  return train_losses, train_accs, p_test_losses, p_test_accs"
      ],
      "execution_count": 8,
      "outputs": []
    },
    {
      "cell_type": "code",
      "metadata": {
        "colab": {
          "base_uri": "https://localhost:8080/"
        },
        "id": "bCCtzIxL-OA7",
        "outputId": "4a9a2599-7d2d-4b2c-9d28-672e81469983"
      },
      "source": [
        "train_losses, train_accs, p_test_losses, p_test_accs = main()\n",
        "print('Time Taken- ', str(time.time()-start_time), ' seconds')"
      ],
      "execution_count": 15,
      "outputs": [
        {
          "output_type": "stream",
          "text": [
            "\r  0%|          | 0/20 [00:00<?, ?it/s]"
          ],
          "name": "stderr"
        },
        {
          "output_type": "stream",
          "text": [
            "training size 28709 : private val size 3589 : public val size 3589\n",
            "learning_rate: 0.01\n",
            "Epoch [1/20] Training Loss: 1.7270, Accuracy: 31.8785\n",
            "Epoch [1/20] private validation Loss: 1.5708, Accuracy: 38.3115\n"
          ],
          "name": "stdout"
        },
        {
          "output_type": "stream",
          "text": [
            "\r  5%|▌         | 1/20 [00:05<01:49,  5.77s/it]"
          ],
          "name": "stderr"
        },
        {
          "output_type": "stream",
          "text": [
            "Epoch [1/20] public validation Loss: 1.5745, Accuracy: 38.1165\n",
            "learning_rate: 0.01\n",
            "Epoch [2/20] Training Loss: 1.4656, Accuracy: 43.5578\n",
            "Epoch [2/20] private validation Loss: 1.5067, Accuracy: 43.1318\n"
          ],
          "name": "stdout"
        },
        {
          "output_type": "stream",
          "text": [
            "\r 10%|█         | 2/20 [00:11<01:44,  5.81s/it]"
          ],
          "name": "stderr"
        },
        {
          "output_type": "stream",
          "text": [
            "Epoch [2/20] public validation Loss: 1.5030, Accuracy: 43.1875\n",
            "learning_rate: 0.01\n",
            "Epoch [3/20] Training Loss: 1.3504, Accuracy: 48.4099\n",
            "Epoch [3/20] private validation Loss: 1.3263, Accuracy: 50.0975\n"
          ],
          "name": "stdout"
        },
        {
          "output_type": "stream",
          "text": [
            "\r 15%|█▌        | 3/20 [00:17<01:40,  5.92s/it]"
          ],
          "name": "stderr"
        },
        {
          "output_type": "stream",
          "text": [
            "Epoch [3/20] public validation Loss: 1.3163, Accuracy: 49.5124\n",
            "learning_rate: 0.01\n",
            "Epoch [4/20] Training Loss: 1.2788, Accuracy: 51.1408\n",
            "Epoch [4/20] private validation Loss: 1.2357, Accuracy: 52.7166\n"
          ],
          "name": "stdout"
        },
        {
          "output_type": "stream",
          "text": [
            "\r 20%|██        | 4/20 [00:24<01:35,  5.99s/it]"
          ],
          "name": "stderr"
        },
        {
          "output_type": "stream",
          "text": [
            "Epoch [4/20] public validation Loss: 1.2445, Accuracy: 52.3266\n",
            "learning_rate: 0.01\n",
            "Epoch [5/20] Training Loss: 1.2304, Accuracy: 53.3596\n",
            "Epoch [5/20] private validation Loss: 1.3190, Accuracy: 51.3792\n"
          ],
          "name": "stdout"
        },
        {
          "output_type": "stream",
          "text": [
            "\r 25%|██▌       | 5/20 [00:29<01:28,  5.88s/it]"
          ],
          "name": "stderr"
        },
        {
          "output_type": "stream",
          "text": [
            "Epoch [5/20] public validation Loss: 1.3180, Accuracy: 51.1563\n",
            "learning_rate: 0.01\n",
            "Epoch [6/20] Training Loss: 1.1990, Accuracy: 54.5752\n",
            "Epoch [6/20] private validation Loss: 1.2256, Accuracy: 53.9705\n"
          ],
          "name": "stdout"
        },
        {
          "output_type": "stream",
          "text": [
            "\r 30%|███       | 6/20 [00:35<01:21,  5.82s/it]"
          ],
          "name": "stderr"
        },
        {
          "output_type": "stream",
          "text": [
            "Epoch [6/20] public validation Loss: 1.2056, Accuracy: 54.3327\n",
            "learning_rate: 0.01\n",
            "Epoch [7/20] Training Loss: 1.1754, Accuracy: 55.2127\n",
            "Epoch [7/20] private validation Loss: 1.1581, Accuracy: 54.3605\n"
          ],
          "name": "stdout"
        },
        {
          "output_type": "stream",
          "text": [
            "\r 35%|███▌      | 7/20 [00:41<01:15,  5.85s/it]"
          ],
          "name": "stderr"
        },
        {
          "output_type": "stream",
          "text": [
            "Epoch [7/20] public validation Loss: 1.2172, Accuracy: 54.6113\n",
            "learning_rate: 0.01\n",
            "Epoch [8/20] Training Loss: 1.1591, Accuracy: 56.2298\n",
            "Epoch [8/20] private validation Loss: 1.1839, Accuracy: 55.1128\n"
          ],
          "name": "stdout"
        },
        {
          "output_type": "stream",
          "text": [
            "\r 40%|████      | 8/20 [00:47<01:10,  5.87s/it]"
          ],
          "name": "stderr"
        },
        {
          "output_type": "stream",
          "text": [
            "Epoch [8/20] public validation Loss: 1.1899, Accuracy: 54.4720\n",
            "learning_rate: 0.01\n",
            "Epoch [9/20] Training Loss: 1.1475, Accuracy: 56.4771\n",
            "Epoch [9/20] private validation Loss: 1.1312, Accuracy: 56.8403\n"
          ],
          "name": "stdout"
        },
        {
          "output_type": "stream",
          "text": [
            "\r 45%|████▌     | 9/20 [00:52<01:04,  5.82s/it]"
          ],
          "name": "stderr"
        },
        {
          "output_type": "stream",
          "text": [
            "Epoch [9/20] public validation Loss: 1.1504, Accuracy: 55.5865\n",
            "learning_rate: 0.01\n",
            "Epoch [10/20] Training Loss: 1.1244, Accuracy: 57.3862\n",
            "Epoch [10/20] private validation Loss: 1.1244, Accuracy: 55.9487\n"
          ],
          "name": "stdout"
        },
        {
          "output_type": "stream",
          "text": [
            "\r 50%|█████     | 10/20 [00:58<00:58,  5.80s/it]"
          ],
          "name": "stderr"
        },
        {
          "output_type": "stream",
          "text": [
            "Epoch [10/20] public validation Loss: 1.1754, Accuracy: 55.6701\n",
            "learning_rate: 0.01\n",
            "Epoch [11/20] Training Loss: 1.1194, Accuracy: 57.5638\n",
            "Epoch [11/20] private validation Loss: 1.1395, Accuracy: 57.3140\n"
          ],
          "name": "stdout"
        },
        {
          "output_type": "stream",
          "text": [
            "\r 55%|█████▌    | 11/20 [01:04<00:53,  5.89s/it]"
          ],
          "name": "stderr"
        },
        {
          "output_type": "stream",
          "text": [
            "saving new model\n",
            "Epoch [11/20] public validation Loss: 1.1307, Accuracy: 56.0880\n",
            "learning_rate: 0.01\n",
            "Epoch [12/20] Training Loss: 1.1114, Accuracy: 58.1037\n",
            "saving new model\n",
            "Epoch [12/20] private validation Loss: 1.0909, Accuracy: 57.9270\n",
            "saving new model\n"
          ],
          "name": "stdout"
        },
        {
          "output_type": "stream",
          "text": [
            "\r 60%|██████    | 12/20 [01:11<00:49,  6.16s/it]"
          ],
          "name": "stderr"
        },
        {
          "output_type": "stream",
          "text": [
            "Epoch [12/20] public validation Loss: 1.1273, Accuracy: 57.9549\n",
            "learning_rate: 0.01\n",
            "Epoch [13/20] Training Loss: 1.1093, Accuracy: 57.9749\n",
            "Epoch [13/20] private validation Loss: 1.1204, Accuracy: 57.7041\n"
          ],
          "name": "stdout"
        },
        {
          "output_type": "stream",
          "text": [
            "\r 65%|██████▌   | 13/20 [01:17<00:42,  6.10s/it]"
          ],
          "name": "stderr"
        },
        {
          "output_type": "stream",
          "text": [
            "Epoch [13/20] public validation Loss: 1.1707, Accuracy: 57.4812\n",
            "learning_rate: 0.01\n",
            "Epoch [14/20] Training Loss: 1.1001, Accuracy: 58.2640\n",
            "Epoch [14/20] private validation Loss: 1.1361, Accuracy: 55.3915\n"
          ],
          "name": "stdout"
        },
        {
          "output_type": "stream",
          "text": [
            "\r 70%|███████   | 14/20 [01:23<00:36,  6.09s/it]"
          ],
          "name": "stderr"
        },
        {
          "output_type": "stream",
          "text": [
            "Epoch [14/20] public validation Loss: 1.1914, Accuracy: 55.3357\n",
            "learning_rate: 0.01\n",
            "Epoch [15/20] Training Loss: 1.0980, Accuracy: 58.5600\n",
            "Epoch [15/20] private validation Loss: 1.1186, Accuracy: 58.1778\n"
          ],
          "name": "stdout"
        },
        {
          "output_type": "stream",
          "text": [
            "\r 75%|███████▌  | 15/20 [01:29<00:30,  6.09s/it]"
          ],
          "name": "stderr"
        },
        {
          "output_type": "stream",
          "text": [
            "saving new model\n",
            "Epoch [15/20] public validation Loss: 1.1208, Accuracy: 56.1716\n",
            "learning_rate: 0.01\n",
            "Epoch [16/20] Training Loss: 1.0889, Accuracy: 58.7237\n",
            "Epoch [16/20] private validation Loss: 1.1085, Accuracy: 58.9022\n"
          ],
          "name": "stdout"
        },
        {
          "output_type": "stream",
          "text": [
            "\r 80%|████████  | 16/20 [01:35<00:24,  6.08s/it]"
          ],
          "name": "stderr"
        },
        {
          "output_type": "stream",
          "text": [
            "Epoch [16/20] public validation Loss: 1.1338, Accuracy: 56.3110\n",
            "learning_rate: 0.01\n",
            "Epoch [17/20] Training Loss: 1.0822, Accuracy: 58.8875\n",
            "Epoch [17/20] private validation Loss: 1.1320, Accuracy: 57.2026\n"
          ],
          "name": "stdout"
        },
        {
          "output_type": "stream",
          "text": [
            "\r 85%|████████▌ | 17/20 [01:41<00:18,  6.01s/it]"
          ],
          "name": "stderr"
        },
        {
          "output_type": "stream",
          "text": [
            "Epoch [17/20] public validation Loss: 1.1214, Accuracy: 56.5896\n",
            "learning_rate: 0.01\n",
            "Epoch [18/20] Training Loss: 1.0821, Accuracy: 58.7864\n",
            "saving new model\n",
            "Epoch [18/20] private validation Loss: 1.0663, Accuracy: 58.4285\n"
          ],
          "name": "stdout"
        },
        {
          "output_type": "stream",
          "text": [
            "\r 90%|█████████ | 18/20 [01:47<00:12,  6.08s/it]"
          ],
          "name": "stderr"
        },
        {
          "output_type": "stream",
          "text": [
            "Epoch [18/20] public validation Loss: 1.1549, Accuracy: 57.3140\n",
            "learning_rate: 0.01\n",
            "Epoch [19/20] Training Loss: 1.0780, Accuracy: 59.2602\n",
            "Epoch [19/20] private validation Loss: 1.1284, Accuracy: 57.5091\n"
          ],
          "name": "stdout"
        },
        {
          "output_type": "stream",
          "text": [
            "\r 95%|█████████▌| 19/20 [01:53<00:06,  6.02s/it]"
          ],
          "name": "stderr"
        },
        {
          "output_type": "stream",
          "text": [
            "Epoch [19/20] public validation Loss: 1.1465, Accuracy: 55.3915\n",
            "learning_rate: 0.01\n",
            "Epoch [20/20] Training Loss: 1.0753, Accuracy: 59.3786\n",
            "Epoch [20/20] private validation Loss: 1.1004, Accuracy: 58.4843\n"
          ],
          "name": "stdout"
        },
        {
          "output_type": "stream",
          "text": [
            "100%|██████████| 20/20 [01:59<00:00,  5.97s/it]"
          ],
          "name": "stderr"
        },
        {
          "output_type": "stream",
          "text": [
            "Epoch [20/20] public validation Loss: 1.1399, Accuracy: 56.5060\n",
            "Time Taken-  347.33278369903564  seconds\n"
          ],
          "name": "stdout"
        },
        {
          "output_type": "stream",
          "text": [
            "\n"
          ],
          "name": "stderr"
        }
      ]
    },
    {
      "cell_type": "markdown",
      "metadata": {
        "id": "_Cx4kZ60iOFO"
      },
      "source": [
        "### 3."
      ]
    },
    {
      "cell_type": "code",
      "metadata": {
        "id": "m6cFr68hfChy",
        "colab": {
          "base_uri": "https://localhost:8080/"
        },
        "outputId": "33edf997-4c3c-48e0-dcfa-8e1b6cfb5b3e"
      },
      "source": [
        "print('Epoch:',20)\n",
        "print('Training accuracy:',float(train_accs[-1]))\n",
        "print('Training loss:',float(train_losses[-1]))\n",
        "print('Private test accuracy:',float(p_test_accs[-1]))\n",
        "print('Private test loss:',float(p_test_losses[-1]))"
      ],
      "execution_count": 16,
      "outputs": [
        {
          "output_type": "stream",
          "text": [
            "Epoch: 20\n",
            "Training accuracy: 59.37859207913895\n",
            "Training loss: 1.0753270387649536\n",
            "Private test accuracy: 58.48425745332962\n",
            "Private test loss: 1.100435495376587\n"
          ],
          "name": "stdout"
        }
      ]
    },
    {
      "cell_type": "code",
      "metadata": {
        "id": "bo1bkTNQ8go2",
        "colab": {
          "base_uri": "https://localhost:8080/",
          "height": 295
        },
        "outputId": "8b28e28c-f538-42be-e05c-b68c36204249"
      },
      "source": [
        "plot_loss(train_losses, 'Training')  "
      ],
      "execution_count": 29,
      "outputs": [
        {
          "output_type": "display_data",
          "data": {
            "image/png": "[encoded data removed]",
            "text/plain": [
              "<Figure size 432x288 with 1 Axes>"
            ]
          },
          "metadata": {
            "tags": [],
            "needs_background": "light"
          }
        }
      ]
    },
    {
      "cell_type": "code",
      "metadata": {
        "id": "Jr31SgvreusC",
        "colab": {
          "base_uri": "https://localhost:8080/",
          "height": 295
        },
        "outputId": "316a59ce-22c7-44a4-8d36-70eb8cf8c978"
      },
      "source": [
        "plot_acc(train_accs, 'Training')"
      ],
      "execution_count": 30,
      "outputs": [
        {
          "output_type": "display_data",
          "data": {
            "image/png": "[encoded data removed]",
            "text/plain": [
              "<Figure size 432x288 with 1 Axes>"
            ]
          },
          "metadata": {
            "tags": [],
            "needs_background": "light"
          }
        }
      ]
    },
    {
      "cell_type": "code",
      "metadata": {
        "id": "ABbfpQTAHYJx",
        "colab": {
          "base_uri": "https://localhost:8080/",
          "height": 295
        },
        "outputId": "46611cc9-80c0-4aca-e96e-509041efbc5b"
      },
      "source": [
        "plot_loss(p_test_losses, 'Private test')"
      ],
      "execution_count": 31,
      "outputs": [
        {
          "output_type": "display_data",
          "data": {
            "image/png": "[encoded data removed]",
            "text/plain": [
              "<Figure size 432x288 with 1 Axes>"
            ]
          },
          "metadata": {
            "tags": [],
            "needs_background": "light"
          }
        }
      ]
    },
    {
      "cell_type": "code",
      "metadata": {
        "id": "Tb81V6KEex9K",
        "colab": {
          "base_uri": "https://localhost:8080/",
          "height": 295
        },
        "outputId": "c0b5031a-7701-4bb3-d056-c2bf1fdaeffa"
      },
      "source": [
        "plot_acc(p_test_accs, 'Private test')"
      ],
      "execution_count": 32,
      "outputs": [
        {
          "output_type": "display_data",
          "data": {
            "image/png": "[encoded data removed]",
            "text/plain": [
              "<Figure size 432x288 with 1 Axes>"
            ]
          },
          "metadata": {
            "tags": [],
            "needs_background": "light"
          }
        }
      ]
    },
    {
      "cell_type": "markdown",
      "metadata": {
        "id": "dl6_q9TbjbG9"
      },
      "source": [
        "### 4. Evaluate the model"
      ]
    },
    {
      "cell_type": "markdown",
      "metadata": {
        "id": "NOu4H4TWdwgQ"
      },
      "source": [
        "#### grad-cam.py"
      ]
    },
    {
      "cell_type": "code",
      "metadata": {
        "id": "6XI8sy95dy9F"
      },
      "source": [
        "# see https://github.com/kazuto1011/grad-cam-pytorch\n",
        "from collections import OrderedDict\n",
        "import torch\n",
        "import torch.nn as nn\n",
        "from torch.nn import functional as F\n",
        "\n",
        "class _BaseWrapper(object):\n",
        "    \"\"\"\n",
        "    Please modify forward() and backward() according to your task.\n",
        "    \"\"\"\n",
        "\n",
        "    def __init__(self, model):\n",
        "        super(_BaseWrapper, self).__init__()\n",
        "        self.device = next(model.parameters()).device\n",
        "        self.model = model\n",
        "        self.handlers = []  # a set of hook function handlers\n",
        "\n",
        "    def _encode_one_hot(self, ids):\n",
        "        one_hot = torch.zeros_like(self.logits).to(self.device)\n",
        "        one_hot.scatter_(1, ids, 1.0)\n",
        "        return one_hot\n",
        "\n",
        "    def forward(self, image):\n",
        "        \"\"\"\n",
        "        Simple classification\n",
        "        \"\"\"\n",
        "        self.model.zero_grad()\n",
        "        self.logits = self.model(image)\n",
        "        self.logits = self.logits.unsqueeze(0)\n",
        "        self.probs = F.softmax(self.logits, dim=1)\n",
        "        return self.probs.sort(dim=1, descending=True)\n",
        "\n",
        "    def backward(self, ids):\n",
        "        \"\"\"\n",
        "        Class-specific backpropagation\n",
        "\n",
        "        Either way works:\n",
        "        1. self.logits.backward(gradient=one_hot, retain_graph=True)\n",
        "        2. (self.logits * one_hot).sum().backward(retain_graph=True)\n",
        "        \"\"\"\n",
        "        one_hot = self._encode_one_hot(ids)\n",
        "        self.logits.backward(gradient=one_hot, retain_graph=True)\n",
        "\n",
        "    def generate(self):\n",
        "        raise NotImplementedError\n",
        "\n",
        "    def remove_hook(self):\n",
        "        \"\"\"\n",
        "        Remove all the forward/backward hook functions\n",
        "        \"\"\"\n",
        "        for handle in self.handlers:\n",
        "            handle.remove()\n",
        "\n",
        "\n",
        "class BackPropagation(_BaseWrapper):\n",
        "    def forward(self, image):\n",
        "        self.image = image.requires_grad_()\n",
        "        return super(BackPropagation, self).forward(self.image)\n",
        "\n",
        "    def generate(self):\n",
        "        gradient = self.image.grad.clone()\n",
        "        self.image.grad.zero_()\n",
        "        return gradient\n",
        "\n",
        "\n",
        "class GuidedBackPropagation(BackPropagation):\n",
        "    \"\"\"\n",
        "    \"Striving for Simplicity: the All Convolutional Net\"\n",
        "    https://arxiv.org/pdf/1412.6806.pdf\n",
        "    Look at Figure 1 on page 8.\n",
        "    \"\"\"\n",
        "\n",
        "    def __init__(self, model):\n",
        "        super(GuidedBackPropagation, self).__init__(model)\n",
        "\n",
        "        def backward_hook(module, grad_in, grad_out):\n",
        "            # Cut off negative gradients\n",
        "            if isinstance(module, nn.ReLU):\n",
        "                return (torch.clamp(grad_in[0], min=0.0),)\n",
        "\n",
        "        for module in self.model.named_modules():\n",
        "            self.handlers.append(module[1].register_backward_hook(backward_hook))\n",
        "\n",
        "\n",
        "class GradCAM(_BaseWrapper):\n",
        "    \"\"\"\n",
        "    \"Grad-CAM: Visual Explanations from Deep Networks via Gradient-based Localization\"\n",
        "    https://arxiv.org/pdf/1610.02391.pdf\n",
        "    Look at Figure 2 on page 4\n",
        "    \"\"\"\n",
        "\n",
        "    def __init__(self, model, candidate_layers=None):\n",
        "        super(GradCAM, self).__init__(model)\n",
        "        self.fmap_pool = OrderedDict()\n",
        "        self.grad_pool = OrderedDict()\n",
        "        self.candidate_layers = candidate_layers  # list\n",
        "\n",
        "        def forward_hook(key):\n",
        "            def forward_hook_(module, input, output):\n",
        "                # Save featuremaps\n",
        "                self.fmap_pool[key] = output.detach()\n",
        "\n",
        "            return forward_hook_\n",
        "\n",
        "        def backward_hook(key):\n",
        "            def backward_hook_(module, grad_in, grad_out):\n",
        "                # Save the gradients correspond to the featuremaps\n",
        "                self.grad_pool[key] = grad_out[0].detach()\n",
        "\n",
        "            return backward_hook_\n",
        "\n",
        "        # If any candidates are not specified, the hook is registered to all the layers.\n",
        "        for name, module in self.model.named_modules():\n",
        "            if self.candidate_layers is None or name in self.candidate_layers:\n",
        "                self.handlers.append(module.register_forward_hook(forward_hook(name)))\n",
        "                self.handlers.append(module.register_backward_hook(backward_hook(name)))\n",
        "\n",
        "    def _find(self, pool, target_layer):\n",
        "        if target_layer in pool.keys():\n",
        "            return pool[target_layer]\n",
        "        else:\n",
        "            raise ValueError(\"Invalid layer name: {}\".format(target_layer))\n",
        "\n",
        "    def _compute_grad_weights(self, grads):\n",
        "        return F.adaptive_avg_pool2d(grads, 1)\n",
        "\n",
        "    def forward(self, image):\n",
        "        self.image_shape = image.shape[2:]\n",
        "        return super(GradCAM, self).forward(image)\n",
        "\n",
        "    def generate(self, target_layer):\n",
        "        fmaps = self._find(self.fmap_pool, target_layer)\n",
        "        grads = self._find(self.grad_pool, target_layer)\n",
        "        weights = self._compute_grad_weights(grads)\n",
        "        gcam = torch.mul(fmaps, weights).sum(dim=1, keepdim=True)\n",
        "        gcam = F.relu(gcam)\n",
        "        \n",
        "        gcam = F.interpolate(\n",
        "            gcam, self.image_shape, mode=\"bilinear\", align_corners=False\n",
        "        )\n",
        "        \n",
        "        B, C, H, W = gcam.shape\n",
        "        gcam = gcam.view(B, -1)\n",
        "        gcam -= gcam.min(dim=1, keepdim=True)[0]\n",
        "        gcam /= gcam.max(dim=1, keepdim=True)[0]\n",
        "        gcam = gcam.view(B, C, H, W)\n",
        "        return gcam"
      ],
      "execution_count": 33,
      "outputs": []
    },
    {
      "cell_type": "markdown",
      "metadata": {
        "id": "LJeLuwTtj_84"
      },
      "source": [
        "#### check.py"
      ]
    },
    {
      "cell_type": "code",
      "metadata": {
        "id": "AC6L11C99Hmx"
      },
      "source": [
        "faceCascade = cv2.CascadeClassifier('haarcascade_frontalface_default.xml')\n",
        "shape = (48,48)\n",
        "classes = ['Angry','Disgust','Fear','Happy','Sad','Surprised','Neutral']"
      ],
      "execution_count": 34,
      "outputs": []
    },
    {
      "cell_type": "code",
      "metadata": {
        "id": "CCDxUm1_jb4S",
        "colab": {
          "base_uri": "https://localhost:8080/"
        },
        "outputId": "e6d5e04a-ed58-4d41-ef71-2ac6d724d710"
      },
      "source": [
        "def preprocess(image_path):\n",
        "  transform_test = transforms.Compose([\n",
        "    transforms.ToTensor()\n",
        "  ])\n",
        "  image = cv2.imread(image_path)\n",
        "  faces = faceCascade.detectMultiScale(\n",
        "    image,\n",
        "    scaleFactor=1.1,\n",
        "    minNeighbors=5,\n",
        "    minSize=(1, 1),\n",
        "    flags=cv2.CASCADE_SCALE_IMAGE\n",
        "  )\n",
        "\n",
        "  if len(faces) == 0:\n",
        "    print('no face found')\n",
        "    face = cv2.resize(image, shape)\n",
        "  else:\n",
        "    (x, y, w, h) = faces[0]\n",
        "    face = image[y:y + h, x:x + w]\n",
        "    face = cv2.resize(face, shape)\n",
        "\n",
        "  img = Image.fromarray(face).convert('L')\n",
        "  inputs = transform_test(img)\n",
        "  return inputs, face\n",
        "\n",
        "\n",
        "def get_gradient_image(gradient):\n",
        "  gradient = gradient.cpu().numpy().transpose(1, 2, 0)\n",
        "  gradient -= gradient.min()\n",
        "  gradient /= gradient.max()\n",
        "  gradient *= 255.0\n",
        "  return np.uint8(gradient)\n",
        "\n",
        "\n",
        "def get_gradcam_image(gcam, raw_image, paper_cmap=False):\n",
        "  gcam = gcam.cpu().numpy()\n",
        "  cmap = cm.jet_r(gcam)[..., :3] * 255.0\n",
        "  if paper_cmap:\n",
        "    alpha = gcam[..., None]\n",
        "    gcam = alpha * cmap + (1 - alpha) * raw_image\n",
        "  else:\n",
        "    gcam = (cmap.astype(np.float) + raw_image.astype(np.float)) / 2\n",
        "  return np.uint8(gcam)\n",
        "\n",
        "\n",
        "def guided_backprop(images, model_name):\n",
        "\n",
        "  for i, image in enumerate(images):\n",
        "    target, raw_image = preprocess(image['path'])\n",
        "    image['image'] = target\n",
        "    image['raw_image'] = raw_image\n",
        "\n",
        "  # net = model.Model(num_classes=len(classes))\n",
        "  net = Model(num_classes=len(classes)).to(device)\n",
        "  checkpoint = torch.load(os.path.join('trained', model_name), map_location=torch.device('cuda'))\n",
        "  net.load_state_dict(checkpoint['net'])\n",
        "  net.eval()\n",
        "  summary(net, (1, shape[0], shape[1]))\n",
        "  \n",
        "  ########## New added ##########\n",
        "  sep_layers = []\n",
        "  for name, layer in net.named_modules():\n",
        "    if isinstance(layer, torch.nn.Conv2d):\n",
        "      if 'sepConv' in name:\n",
        "        sep_layers.append(name)\n",
        "  ###############################\n",
        "\n",
        "  for layer in sep_layers:\n",
        "    result_images = []\n",
        "    for index, image in enumerate(images):\n",
        "      img = torch.stack([image['image']]).to(device)\n",
        "      bp = BackPropagation(model=net)\n",
        "      probs, ids = bp.forward(img)\n",
        "      gcam = GradCAM(model=net)\n",
        "      _ = gcam.forward(img)\n",
        "\n",
        "      gbp = GuidedBackPropagation(model=net)\n",
        "      _ = gbp.forward(img)\n",
        "      \n",
        "      # Guided Backpropagation\n",
        "      actual_emotion = ids[:,0]\n",
        "      gbp.backward(ids=actual_emotion.reshape(1,1))\n",
        "      gradients = gbp.generate()\n",
        "      \n",
        "      # Grad-CAM\n",
        "      gcam.backward(ids=actual_emotion.reshape(1,1))\n",
        "      regions = gcam.generate(target_layer=layer)\n",
        "      \n",
        "      # Get Images\n",
        "      label_image = np.zeros((shape[0],65, 3), np.uint8)\n",
        "      cv2.putText(label_image, classes[actual_emotion.data], (5, 25), cv2.FONT_HERSHEY_SIMPLEX, 0.4, (255, 255, 255), 1, cv2.LINE_AA)\n",
        "\n",
        "      prob_image = np.zeros((shape[0],60,3), np.uint8)\n",
        "      cv2.putText(prob_image, '%.1f%%' % (probs.data[:,0] * 100), (5, 25), cv2.FONT_HERSHEY_SIMPLEX, 0.5, (255, 255, 255), 1, cv2.LINE_AA)\n",
        "\n",
        "      guided_bpg_image = get_gradient_image(gradients[0])\n",
        "      guided_bpg_image = cv2.merge((guided_bpg_image, guided_bpg_image, guided_bpg_image))\n",
        "      \n",
        "      grad_cam_image = get_gradcam_image(gcam=regions[0, 0],raw_image=image['raw_image'])\n",
        "      \n",
        "      guided_gradcam_image = get_gradient_image(torch.mul(regions, gradients)[0])\n",
        "      guided_gradcam_image = cv2.merge((guided_gradcam_image, guided_gradcam_image, guided_gradcam_image))\n",
        "      \n",
        "      img = cv2.hconcat([image['raw_image'],label_image,prob_image,guided_bpg_image,grad_cam_image,guided_gradcam_image])\n",
        "      result_images.append(img)\n",
        "      print(image['path'],classes[actual_emotion.data], probs.data[:,0] * 100)\n",
        "    print('\\n')\n",
        "    result = cv2.resize(cv2.vconcat(result_images), None, fx=2,fy=2)\n",
        "    cv2.imwrite('test/guided_gradcam('+layer+').jpg',result)\n",
        "  \n",
        "\n",
        "def main2():\n",
        "  guided_backprop(\n",
        "    images=[\n",
        "      {'path': 'test2/angry.jpg'},\n",
        "      {'path': 'test2/happy.jpg'},\n",
        "      {'path': 'test2/sad.jpg'},\n",
        "      {'path': 'test2/surprised.jpg'},\n",
        "    ],\n",
        "    model_name='private_model_20_59.t7'\n",
        "  )\n",
        "\n",
        "if __name__ == \"__main__\":\n",
        "  main2()"
      ],
      "execution_count": 35,
      "outputs": [
        {
          "output_type": "stream",
          "text": [
            "----------------------------------------------------------------\n",
            "        Layer (type)               Output Shape         Param #\n",
            "================================================================\n",
            "            Conv2d-1            [-1, 8, 46, 46]              80\n",
            "       BatchNorm2d-2            [-1, 8, 46, 46]              16\n",
            "              ReLU-3            [-1, 8, 46, 46]               0\n",
            "            Conv2d-4            [-1, 8, 44, 44]             584\n",
            "       BatchNorm2d-5            [-1, 8, 44, 44]              16\n",
            "              ReLU-6            [-1, 8, 44, 44]               0\n",
            "            Conv2d-7           [-1, 16, 22, 22]             128\n",
            "       BatchNorm2d-8           [-1, 16, 22, 22]              32\n",
            "            Conv2d-9            [-1, 8, 44, 44]              72\n",
            "           Conv2d-10           [-1, 16, 44, 44]             128\n",
            "  SeparableConv2d-11           [-1, 16, 44, 44]               0\n",
            "      BatchNorm2d-12           [-1, 16, 44, 44]              32\n",
            "             ReLU-13           [-1, 16, 44, 44]               0\n",
            "           Conv2d-14           [-1, 16, 44, 44]             144\n",
            "           Conv2d-15           [-1, 16, 44, 44]             256\n",
            "  SeparableConv2d-16           [-1, 16, 44, 44]               0\n",
            "      BatchNorm2d-17           [-1, 16, 44, 44]              32\n",
            "        MaxPool2d-18           [-1, 16, 22, 22]               0\n",
            "    ResidualBlock-19           [-1, 16, 22, 22]               0\n",
            "           Conv2d-20           [-1, 32, 11, 11]             512\n",
            "      BatchNorm2d-21           [-1, 32, 11, 11]              64\n",
            "           Conv2d-22           [-1, 16, 22, 22]             144\n",
            "           Conv2d-23           [-1, 32, 22, 22]             512\n",
            "  SeparableConv2d-24           [-1, 32, 22, 22]               0\n",
            "      BatchNorm2d-25           [-1, 32, 22, 22]              64\n",
            "             ReLU-26           [-1, 32, 22, 22]               0\n",
            "           Conv2d-27           [-1, 32, 22, 22]             288\n",
            "           Conv2d-28           [-1, 32, 22, 22]           1,024\n",
            "  SeparableConv2d-29           [-1, 32, 22, 22]               0\n",
            "      BatchNorm2d-30           [-1, 32, 22, 22]              64\n",
            "        MaxPool2d-31           [-1, 32, 11, 11]               0\n",
            "    ResidualBlock-32           [-1, 32, 11, 11]               0\n",
            "           Conv2d-33             [-1, 64, 6, 6]           2,048\n",
            "      BatchNorm2d-34             [-1, 64, 6, 6]             128\n",
            "           Conv2d-35           [-1, 32, 11, 11]             288\n",
            "           Conv2d-36           [-1, 64, 11, 11]           2,048\n",
            "  SeparableConv2d-37           [-1, 64, 11, 11]               0\n",
            "      BatchNorm2d-38           [-1, 64, 11, 11]             128\n",
            "             ReLU-39           [-1, 64, 11, 11]               0\n",
            "           Conv2d-40           [-1, 64, 11, 11]             576\n",
            "           Conv2d-41           [-1, 64, 11, 11]           4,096\n",
            "  SeparableConv2d-42           [-1, 64, 11, 11]               0\n",
            "      BatchNorm2d-43           [-1, 64, 11, 11]             128\n",
            "        MaxPool2d-44             [-1, 64, 6, 6]               0\n",
            "    ResidualBlock-45             [-1, 64, 6, 6]               0\n",
            "           Conv2d-46            [-1, 128, 3, 3]           8,192\n",
            "      BatchNorm2d-47            [-1, 128, 3, 3]             256\n",
            "           Conv2d-48             [-1, 64, 6, 6]             576\n",
            "           Conv2d-49            [-1, 128, 6, 6]           8,192\n",
            "  SeparableConv2d-50            [-1, 128, 6, 6]               0\n",
            "      BatchNorm2d-51            [-1, 128, 6, 6]             256\n",
            "             ReLU-52            [-1, 128, 6, 6]               0\n",
            "           Conv2d-53            [-1, 128, 6, 6]           1,152\n",
            "           Conv2d-54            [-1, 128, 6, 6]          16,384\n",
            "  SeparableConv2d-55            [-1, 128, 6, 6]               0\n",
            "      BatchNorm2d-56            [-1, 128, 6, 6]             256\n",
            "        MaxPool2d-57            [-1, 128, 3, 3]               0\n",
            "    ResidualBlock-58            [-1, 128, 3, 3]               0\n",
            "           Conv2d-59              [-1, 7, 3, 3]           8,071\n",
            "AdaptiveAvgPool2d-60              [-1, 7, 1, 1]               0\n",
            "================================================================\n",
            "Total params: 56,967\n",
            "Trainable params: 56,967\n",
            "Non-trainable params: 0\n",
            "----------------------------------------------------------------\n",
            "Input size (MB): 0.01\n",
            "Forward/backward pass size (MB): 5.02\n",
            "Params size (MB): 0.22\n",
            "Estimated Total Size (MB): 5.24\n",
            "----------------------------------------------------------------\n",
            "test2/angry.jpg Sad tensor([36.1536], device='cuda:0')\n",
            "test2/happy.jpg Happy tensor([98.5564], device='cuda:0')\n",
            "test2/sad.jpg Neutral tensor([80.9271], device='cuda:0')\n",
            "test2/surprised.jpg Surprised tensor([51.1070], device='cuda:0')\n",
            "\n",
            "\n"
          ],
          "name": "stdout"
        },
        {
          "output_type": "stream",
          "text": [
            "/usr/local/lib/python3.7/dist-packages/torch/nn/modules/module.py:795: UserWarning: Using a non-full backward hook when the forward contains multiple autograd Nodes is deprecated and will be removed in future versions. This hook will be missing some grad_input. Please use register_full_backward_hook to get the documented behavior.\n",
            "  warnings.warn(\"Using a non-full backward hook when the forward contains multiple autograd Nodes \"\n"
          ],
          "name": "stderr"
        },
        {
          "output_type": "stream",
          "text": [
            "test2/angry.jpg Sad tensor([36.1536], device='cuda:0')\n",
            "test2/happy.jpg Happy tensor([98.5564], device='cuda:0')\n",
            "test2/sad.jpg Neutral tensor([80.9271], device='cuda:0')\n",
            "test2/surprised.jpg Surprised tensor([51.1070], device='cuda:0')\n",
            "\n",
            "\n",
            "test2/angry.jpg Sad tensor([36.1536], device='cuda:0')\n",
            "test2/happy.jpg Happy tensor([98.5564], device='cuda:0')\n",
            "test2/sad.jpg Neutral tensor([80.9271], device='cuda:0')\n",
            "test2/surprised.jpg Surprised tensor([51.1070], device='cuda:0')\n",
            "\n",
            "\n",
            "test2/angry.jpg Sad tensor([36.1536], device='cuda:0')\n",
            "test2/happy.jpg Happy tensor([98.5564], device='cuda:0')\n",
            "test2/sad.jpg Neutral tensor([80.9271], device='cuda:0')\n",
            "test2/surprised.jpg Surprised tensor([51.1070], device='cuda:0')\n",
            "\n",
            "\n",
            "test2/angry.jpg Sad tensor([36.1536], device='cuda:0')\n",
            "test2/happy.jpg Happy tensor([98.5564], device='cuda:0')\n",
            "test2/sad.jpg Neutral tensor([80.9271], device='cuda:0')\n",
            "test2/surprised.jpg Surprised tensor([51.1070], device='cuda:0')\n",
            "\n",
            "\n",
            "test2/angry.jpg Sad tensor([36.1536], device='cuda:0')\n",
            "test2/happy.jpg Happy tensor([98.5564], device='cuda:0')\n",
            "test2/sad.jpg Neutral tensor([80.9271], device='cuda:0')\n",
            "test2/surprised.jpg Surprised tensor([51.1070], device='cuda:0')\n",
            "\n",
            "\n",
            "test2/angry.jpg Sad tensor([36.1536], device='cuda:0')\n",
            "test2/happy.jpg Happy tensor([98.5564], device='cuda:0')\n",
            "test2/sad.jpg Neutral tensor([80.9271], device='cuda:0')\n",
            "test2/surprised.jpg Surprised tensor([51.1070], device='cuda:0')\n",
            "\n",
            "\n",
            "test2/angry.jpg Sad tensor([36.1536], device='cuda:0')\n",
            "test2/happy.jpg Happy tensor([98.5564], device='cuda:0')\n",
            "test2/sad.jpg Neutral tensor([80.9271], device='cuda:0')\n",
            "test2/surprised.jpg Surprised tensor([51.1070], device='cuda:0')\n",
            "\n",
            "\n",
            "test2/angry.jpg Sad tensor([36.1536], device='cuda:0')\n",
            "test2/happy.jpg Happy tensor([98.5564], device='cuda:0')\n",
            "test2/sad.jpg Neutral tensor([80.9271], device='cuda:0')\n",
            "test2/surprised.jpg Surprised tensor([51.1070], device='cuda:0')\n",
            "\n",
            "\n",
            "test2/angry.jpg Sad tensor([36.1536], device='cuda:0')\n",
            "test2/happy.jpg Happy tensor([98.5564], device='cuda:0')\n",
            "test2/sad.jpg Neutral tensor([80.9271], device='cuda:0')\n",
            "test2/surprised.jpg Surprised tensor([51.1070], device='cuda:0')\n",
            "\n",
            "\n",
            "test2/angry.jpg Sad tensor([36.1536], device='cuda:0')\n",
            "test2/happy.jpg Happy tensor([98.5564], device='cuda:0')\n",
            "test2/sad.jpg Neutral tensor([80.9271], device='cuda:0')\n",
            "test2/surprised.jpg Surprised tensor([51.1070], device='cuda:0')\n",
            "\n",
            "\n",
            "test2/angry.jpg Sad tensor([36.1536], device='cuda:0')\n",
            "test2/happy.jpg Happy tensor([98.5564], device='cuda:0')\n",
            "test2/sad.jpg Neutral tensor([80.9271], device='cuda:0')\n",
            "test2/surprised.jpg Surprised tensor([51.1070], device='cuda:0')\n",
            "\n",
            "\n",
            "test2/angry.jpg Sad tensor([36.1536], device='cuda:0')\n",
            "test2/happy.jpg Happy tensor([98.5564], device='cuda:0')\n",
            "test2/sad.jpg Neutral tensor([80.9271], device='cuda:0')\n",
            "test2/surprised.jpg Surprised tensor([51.1070], device='cuda:0')\n",
            "\n",
            "\n",
            "test2/angry.jpg Sad tensor([36.1536], device='cuda:0')\n",
            "test2/happy.jpg Happy tensor([98.5564], device='cuda:0')\n",
            "test2/sad.jpg Neutral tensor([80.9271], device='cuda:0')\n",
            "test2/surprised.jpg Surprised tensor([51.1070], device='cuda:0')\n",
            "\n",
            "\n",
            "test2/angry.jpg Sad tensor([36.1536], device='cuda:0')\n",
            "test2/happy.jpg Happy tensor([98.5564], device='cuda:0')\n",
            "test2/sad.jpg Neutral tensor([80.9271], device='cuda:0')\n",
            "test2/surprised.jpg Surprised tensor([51.1070], device='cuda:0')\n",
            "\n",
            "\n",
            "test2/angry.jpg Sad tensor([36.1536], device='cuda:0')\n",
            "test2/happy.jpg Happy tensor([98.5564], device='cuda:0')\n",
            "test2/sad.jpg Neutral tensor([80.9271], device='cuda:0')\n",
            "test2/surprised.jpg Surprised tensor([51.1070], device='cuda:0')\n",
            "\n",
            "\n"
          ],
          "name": "stdout"
        }
      ]
    },
    {
      "cell_type": "markdown",
      "metadata": {
        "id": "UH58qWXJBeP3"
      },
      "source": [
        "### 4"
      ]
    },
    {
      "cell_type": "markdown",
      "metadata": {
        "id": "i6SDKPBTfXFv"
      },
      "source": [
        "There are total 4 residual blocks, each consists of two separable convolutional layers. Each separable convolutional layer consists of one depth-wise layer and one point-wise layer. Total of two depth-wise layers and two point-wise layers. "
      ]
    },
    {
      "cell_type": "markdown",
      "metadata": {
        "id": "sUzuVpzq7nxp"
      },
      "source": [
        "Run check.py in 'test' folder. Output images generated using Grad-CAM for 16 separable convolutional layers are shown below."
      ]
    },
    {
      "cell_type": "markdown",
      "metadata": {
        "id": "yf3Qhmf_la-n"
      },
      "source": [
        "For the 1st residual block (rb1), the first pair of sepConv layers (rb1.sepConv1.depthwise & rb1.sepConv1.pointwise) only highlights a few important regions in the explanation map. Notice that most of the important regions are small dots. However, in general, these dots are forming the outline of the face but somewhat vague and unprecise. The second pair of sepConv layers (rb1.sepConv2.depthwise & rb1.sepConv2.pointwise) give more meaningful information about the facial outline and details of emotion. As the explanation map shown, more important regions like eyes and mouth are highlighted. Moreover, from the guided Grad-CAM images, it is more clear to observe and recognize the emotion type.<br><br>\n",
        "\n",
        "For the 2nd residual block (rb2), the first pair of sepConv layers (rb2.sepConv1.depthwise & rb2.sepConv1.pointwise) gives a worse representation of the current layer compared to rb1. From the explanation map, less facial features are highlighted except the sad face. The second pair of sepConv layers (rb2.sepConv2.depthwise & rb2.sepConv2.pointwise) also provide less important features in the explanation map.<br><br>\n",
        "\n",
        "For the 3rd residual block (rb3), main facial features are now highlighted in both the first and the second pair of sepConv layers. Visually, we could see the second sepConv layer (sepConv2) explains the model well. As the images with a high confidence score are highlighted with more key features and those with a low confidence score are highlighted with less key features.<br><br>\n",
        "\n",
        "Lastly, for the 4th residual block (rb4), the Grad-CAM explanation maps explain the model well in general. Compared to the previous residual block, the last 4 sepConv layers focus more on highlighting the main facial features like mouth, eyes and nose located in the center of each face image except for the third sad face. Relative high confidence scores are given to the angry, happy and surprised faces and low confidence score is given to the sad face. Thus, from these last four sepConv layers, Grad-CAM explain the model well."
      ]
    },
    {
      "cell_type": "markdown",
      "metadata": {
        "id": "Q6eZQcNB2crW"
      },
      "source": [
        "Comments on model performance:<br>\n",
        "For images in test folder, the model gives relatively high confidence scores for angry, happy and surprised faces and low confidence score for the sad face."
      ]
    },
    {
      "cell_type": "markdown",
      "metadata": {
        "id": "TxKTqJDg4nTG"
      },
      "source": [
        "### 5: Evaluate model on test2"
      ]
    },
    {
      "cell_type": "markdown",
      "metadata": {
        "id": "Q03oJG3x4pQP"
      },
      "source": [
        "Below are output images generated using Grad-CAM on images in test2 folder.<br><br>\n",
        "For the 1st residual block (rb1), the explantion map plots several dots around the main facial features like eyes, mouth and nose, in the first pair of sepConv layers. The second pair of sepConv layers improves this by plotting more dots around the main features. However, it is still hard to see the highlighted features of this block in the guided Grad-CAM.\n",
        "<br><br>\n",
        "For the 2nd residual block (rb2), the first pair of sepConv layers captures the main features of the happy face. Also, from the Grad-CAM for the happy face, important facial features are localized correctly which explains the model having a the highest confidence score for it. And for the surprised face, a second highest confidence score is achieved by the model. From the Grad-CAM, there are too many less important features. That explains why the model has a lower confidence score. For the other two faces, we can see only some less meaningful features are highlighted which explains also the low confidence scores. \n",
        "<br><br>\n",
        "For the 3rd residual block (rb3), for both pairs of sepConv layers, main facial features are captured by Grad-CAM except for the angry face.\n",
        "<br><br>\n",
        "For the 4th residual block (rb4), in general, both pairs of sepConv layers are well explained by Grad-CAM since the highlighed features are focused in the middle part of each face. Thus, from the guided Grad-CAM, we can clearly observe the eyes, mouth, nose of each face."
      ]
    },
    {
      "cell_type": "markdown",
      "metadata": {
        "id": "lIQHH_cTnuzX"
      },
      "source": [
        "Comments on model performance:<br>\n",
        "For images in test2 folder, only the happy face and surprised face are correctly classified by the model. The other two, angry and sad faces are misclassified as fear and neutral respectively. In conclusion, the model performance on this test images are worse than that on images in test folder."
      ]
    },
    {
      "cell_type": "markdown",
      "metadata": {
        "id": "dwmgy3beo7CL"
      },
      "source": [
        "Reasoning for performance decrease in model predictions & activations:<br>\n",
        "Notice that in both folders, the happy and surprised faces are given higher confidence scores. And the other two, angry and sad faces are given lower confidence scores or even misclassified as other emotion classes. This might due to the training data are imbalanced in number of true labels meaning more happy, surprised faces and less angry, sad faces are provided for the model to learn."
      ]
    },
    {
      "cell_type": "markdown",
      "metadata": {
        "id": "-ooFgyY5rC7M"
      },
      "source": [
        "### 6. Class-Reweighting"
      ]
    },
    {
      "cell_type": "code",
      "metadata": {
        "colab": {
          "base_uri": "https://localhost:8080/"
        },
        "id": "uekNYkfqBrn7",
        "outputId": "02c00d8e-e200-409b-e544-1ff310869440"
      },
      "source": [
        "import collections\n",
        "\n",
        "factory = DataSetFactory()\n",
        "training_loader = DataLoader(factory.training, batch_size=128, shuffle=False, num_workers=1)\n",
        "\n",
        "emotions = []\n",
        "for i, (x_train, y_train) in enumerate(training_loader):\n",
        "  emotions.extend(y_train.tolist())\n",
        "emotion_dict = collections.Counter(emotions)\n",
        "print(emotion_dict)"
      ],
      "execution_count": null,
      "outputs": [
        {
          "output_type": "stream",
          "text": [
            "training size 28709 : private val size 3589 : public val size 3589\n",
            "Counter({3: 7215, 6: 4965, 4: 4830, 2: 4097, 0: 3995, 5: 3171, 1: 436})\n"
          ],
          "name": "stdout"
        }
      ]
    },
    {
      "cell_type": "code",
      "metadata": {
        "colab": {
          "base_uri": "https://localhost:8080/"
        },
        "id": "meaQE_-q5Ep7",
        "outputId": "a169d570-88fc-4dcb-a6ed-23081fc6edf3"
      },
      "source": [
        "e_dict = {}\n",
        "for key,value in emotion_dict.items():\n",
        "  e_dict[classes[key]] = value\n",
        "print(e_dict)"
      ],
      "execution_count": null,
      "outputs": [
        {
          "output_type": "stream",
          "text": [
            "{'Angry': 3995, 'Fear': 4097, 'Sad': 4830, 'Neutral': 4965, 'Happy': 7215, 'Surprised': 3171, 'Disgust': 436}\n"
          ],
          "name": "stdout"
        }
      ]
    },
    {
      "cell_type": "code",
      "metadata": {
        "colab": {
          "base_uri": "https://localhost:8080/",
          "height": 605
        },
        "id": "1CO80rDi9SBf",
        "outputId": "c71ce326-69d2-4297-84f7-fad77b7bc538"
      },
      "source": [
        "import matplotlib.pyplot as plt\n",
        "plt.pie(e_dict.values(),labels=e_dict.keys(), autopct='%1.1f%%')"
      ],
      "execution_count": null,
      "outputs": [
        {
          "output_type": "execute_result",
          "data": {
            "text/plain": [
              "([<matplotlib.patches.Wedge at 0x7f07312be450>,\n",
              "  <matplotlib.patches.Wedge at 0x7f07312becd0>,\n",
              "  <matplotlib.patches.Wedge at 0x7f07309f2590>,\n",
              "  <matplotlib.patches.Wedge at 0x7f07309f2d10>,\n",
              "  <matplotlib.patches.Wedge at 0x7f07309fd790>,\n",
              "  <matplotlib.patches.Wedge at 0x7f0730a06050>,\n",
              "  <matplotlib.patches.Wedge at 0x7f0730a06650>],\n",
              " [Text(0.9965496146813458, 0.465713286774665, 'Angry'),\n",
              "  Text(0.2701507343310181, 1.0663107336702617, 'Fear'),\n",
              "  Text(-0.7325243008999525, 0.8206144945045976, 'Sad'),\n",
              "  Text(-1.0710830407004805, -0.2505616090382027, 'Neutral'),\n",
              "  Text(-0.008967705520216612, -1.0999634449642872, 'Happy'),\n",
              "  Text(0.9940896172176412, -0.47094143260078924, 'Surprised'),\n",
              "  Text(1.0987482443604089, -0.05246232471897622, 'Disgust')],\n",
              " [Text(0.5435725170989159, 0.25402542914981724, '13.9%'),\n",
              "  Text(0.14735494599873714, 0.5816240365474155, '14.3%'),\n",
              "  Text(-0.3995587095817922, 0.4476079060934168, '16.8%'),\n",
              "  Text(-0.5842271131093529, -0.13666996856629235, '17.3%'),\n",
              "  Text(-0.00489147573829997, -0.5999800608896112, '25.1%'),\n",
              "  Text(0.5422307003005316, -0.25687714505497594, '11.0%'),\n",
              "  Text(0.5993172241965866, -0.028615813483077936, '1.5%')])"
            ]
          },
          "metadata": {
            "tags": []
          },
          "execution_count": 20
        },
        {
          "output_type": "display_data",
          "data": {
            "image/png": "[encoded data removed]",
            "text/plain": [
              "<Figure size 432x288 with 1 Axes>"
            ]
          },
          "metadata": {
            "tags": []
          }
        }
      ]
    },
    {
      "cell_type": "markdown",
      "metadata": {
        "id": "wCXm7d1a-9y5"
      },
      "source": [
        "As the pie chart shown, the frequency of 'happy' labeled faces takes around 25% which is the most frequent one. And the least frequent one is the 'disgust' labeled faces. Notice from previous sections, the model is tested on test and test2 folders. From the output, it shows the confidence score for 'happy' face is always larger than the others which agrees with class imbalance assumption that I made in the previous section. As the class is unbiased, we shall perform class-reweighting to overcome this issue."
      ]
    },
    {
      "cell_type": "code",
      "metadata": {
        "id": "-hCCX9ylBACq"
      },
      "source": [
        "def main_weighted():\n",
        "  # variables  -------------\n",
        "  batch_size = 128\n",
        "  lr = 0.01\n",
        "  epochs = 20\n",
        "  learning_rate_decay_start = 80\n",
        "  learning_rate_decay_every = 5\n",
        "  learning_rate_decay_rate = 0.9\n",
        "  # Add variables\n",
        "  train_losses = []\n",
        "  train_accs = []\n",
        "\n",
        "  p_test_losses = []\n",
        "  p_test_accs = []\n",
        "  # ------------------------\n",
        "\n",
        "  classes = ['Angry', 'Disgust', 'Fear', 'Happy', 'Sad', 'Surprise', 'Neutral']\n",
        "  network = Model(num_classes=len(classes)).to(device)\n",
        "  if not torch.cuda.is_available():\n",
        "    summary(network, (1, shape[0], shape[1]))\n",
        "\n",
        "  optimizer = torch.optim.SGD(network.parameters(), lr=lr, momentum=0.9, weight_decay=5e-3)\n",
        "  w = torch.tensor([1/7, 1/7, 1/7, 1/7, 1/7, 1/7, 1/7]).to(device)\n",
        "  criterion = nn.CrossEntropyLoss(weight=w) # Add weights for class-reweighting\n",
        "  factory = DataSetFactory()\n",
        "\n",
        "  training_loader = DataLoader(factory.training, batch_size=batch_size, shuffle=True, num_workers=1)\n",
        "  validation_loader = {\n",
        "    'private': DataLoader(factory.private, batch_size=batch_size, shuffle=True, num_workers=1),\n",
        "    'public': DataLoader(factory.public, batch_size=batch_size, shuffle=True, num_workers=1)\n",
        "  }\n",
        "\n",
        "  min_validation_loss = {\n",
        "    'private': 10000,\n",
        "    'public': 10000,\n",
        "  }\n",
        "\n",
        "  for epoch in tqdm(range(epochs)):\n",
        "    network.train()\n",
        "    total = 0\n",
        "    correct = 0\n",
        "    total_train_loss = 0\n",
        "    if epoch > learning_rate_decay_start and learning_rate_decay_start >= 0:\n",
        "      frac = (epoch - learning_rate_decay_start) // learning_rate_decay_every\n",
        "      decay_factor = learning_rate_decay_rate ** frac\n",
        "      current_lr = lr * decay_factor\n",
        "      for group in optimizer.param_groups:\n",
        "        group['lr'] = current_lr\n",
        "    else:\n",
        "      current_lr = lr\n",
        "\n",
        "    print('learning_rate: %s' % str(current_lr))\n",
        "    for i, (x_train, y_train) in enumerate(training_loader):\n",
        "      optimizer.zero_grad()\n",
        "      x_train = x_train.to(device)\n",
        "      y_train = y_train.to(device)\n",
        "      y_predicted = network(x_train)\n",
        "      loss = criterion(y_predicted, y_train)\n",
        "      loss.backward()\n",
        "      optimizer.step()\n",
        "      _, predicted = torch.max(y_predicted.data, 1)\n",
        "      total_train_loss += loss.data\n",
        "      total += y_train.size(0)\n",
        "      correct += predicted.eq(y_train.data).sum()\n",
        "    accuracy = 100. * float(correct) / total\n",
        "    print('Epoch [%d/%d] Training Loss: %.4f, Accuracy: %.4f' % (\n",
        "      epoch + 1, epochs, total_train_loss / (i + 1), accuracy))\n",
        "    \n",
        "    # Record train loss\n",
        "    train_losses.append(total_train_loss / (i + 1))\n",
        "    # Record train acc\n",
        "    train_accs.append(accuracy)\n",
        "    \n",
        "\n",
        "    network.eval()\n",
        "    with torch.no_grad():\n",
        "      # Added \n",
        "      total_p = 0\n",
        "      correct_p = 0\n",
        "      total_validation_loss_p = 0\n",
        "      p_count = 0\n",
        "      accuracy_p = 0\n",
        "      for name in ['private', 'public']:\n",
        "        total = 0\n",
        "        correct = 0\n",
        "        total_validation_loss = 0\n",
        "        \n",
        "        for j, (x_val, y_val) in enumerate(validation_loader[name]):\n",
        "          x_val = x_val.to(device)\n",
        "          y_val = y_val.to(device)\n",
        "          y_val_predicted = network(x_val)\n",
        "          val_loss = criterion(y_val_predicted, y_val)\n",
        "          _, predicted = torch.max(y_val_predicted.data, 1)\n",
        "          total_validation_loss += val_loss.data\n",
        "          # Only record private\n",
        "          if name == 'private':\n",
        "            total_validation_loss_p += val_loss.data\n",
        "            p_count += 1\n",
        "            total_p += y_val.size(0)\n",
        "            correct_p += predicted.eq(y_val.data).sum()\n",
        "\n",
        "          total += y_val.size(0)\n",
        "          correct += predicted.eq(y_val.data).sum()\n",
        "\n",
        "        accuracy = 100. * float(correct) / total\n",
        "        if name =='private':\n",
        "          accuracy_p = 100. * float(correct_p) / total_p\n",
        "        \n",
        "        if total_validation_loss <= min_validation_loss[name]:\n",
        "          if epoch >= 10:\n",
        "            print('saving new model')\n",
        "            state = {'net': network.state_dict()}\n",
        "            # torch.save(state, '../trained/%s_model_%d_%d.t7' % (name, epoch + 1, accuracy))\n",
        "            torch.save(state, 'trained/%s_model_%d_%d.t7' % (name, epoch + 1, accuracy))\n",
        "          min_validation_loss[name] = total_validation_loss\n",
        "\n",
        "        print('Epoch [%d/%d] %s validation Loss: %.4f, Accuracy: %.4f' % (\n",
        "          epoch + 1, epochs, name, total_validation_loss / (j + 1), accuracy))\n",
        "        \n",
        "        # Record private test loss\n",
        "        p_test_losses.append(total_validation_loss_p / p_count)\n",
        "        p_test_accs.append(accuracy_p)\n",
        "\n",
        "  return train_losses, train_accs, p_test_losses, p_test_accs"
      ],
      "execution_count": null,
      "outputs": []
    },
    {
      "cell_type": "code",
      "metadata": {
        "colab": {
          "base_uri": "https://localhost:8080/"
        },
        "id": "ISL5nH9kYFuO",
        "outputId": "69a950da-46ce-4768-bbb4-4395c677362d"
      },
      "source": [
        "train_losses_w, train_accs_w, p_test_losses_w, p_test_accs_w = main_weighted()\n",
        "print('Time Taken- ', str(time.time()-start_time), ' seconds')"
      ],
      "execution_count": null,
      "outputs": [
        {
          "output_type": "stream",
          "text": [
            "\r  0%|          | 0/20 [00:00<?, ?it/s]"
          ],
          "name": "stderr"
        },
        {
          "output_type": "stream",
          "text": [
            "training size 28709 : private val size 3589 : public val size 3589\n",
            "learning_rate: 0.01\n",
            "Epoch [1/20] Training Loss: 1.7218, Accuracy: 31.9168\n",
            "Epoch [1/20] private validation Loss: 1.5553, Accuracy: 39.2867\n"
          ],
          "name": "stdout"
        },
        {
          "output_type": "stream",
          "text": [
            "\r  5%|▌         | 1/20 [00:11<03:39, 11.53s/it]"
          ],
          "name": "stderr"
        },
        {
          "output_type": "stream",
          "text": [
            "Epoch [1/20] public validation Loss: 1.5434, Accuracy: 39.8161\n",
            "learning_rate: 0.01\n",
            "Epoch [2/20] Training Loss: 1.4601, Accuracy: 43.3000\n",
            "Epoch [2/20] private validation Loss: 1.3660, Accuracy: 48.4536\n"
          ],
          "name": "stdout"
        },
        {
          "output_type": "stream",
          "text": [
            "\r 10%|█         | 2/20 [00:22<03:26, 11.49s/it]"
          ],
          "name": "stderr"
        },
        {
          "output_type": "stream",
          "text": [
            "Epoch [2/20] public validation Loss: 1.3690, Accuracy: 47.1719\n",
            "learning_rate: 0.01\n",
            "Epoch [3/20] Training Loss: 1.3298, Accuracy: 48.9707\n",
            "Epoch [3/20] private validation Loss: 1.3143, Accuracy: 49.6796\n"
          ],
          "name": "stdout"
        },
        {
          "output_type": "stream",
          "text": [
            "\r 15%|█▌        | 3/20 [00:34<03:14, 11.47s/it]"
          ],
          "name": "stderr"
        },
        {
          "output_type": "stream",
          "text": [
            "Epoch [3/20] public validation Loss: 1.2911, Accuracy: 50.2647\n",
            "learning_rate: 0.01\n",
            "Epoch [4/20] Training Loss: 1.2539, Accuracy: 51.9907\n",
            "Epoch [4/20] private validation Loss: 1.2828, Accuracy: 51.6857\n"
          ],
          "name": "stdout"
        },
        {
          "output_type": "stream",
          "text": [
            "\r 20%|██        | 4/20 [00:45<03:03, 11.45s/it]"
          ],
          "name": "stderr"
        },
        {
          "output_type": "stream",
          "text": [
            "Epoch [4/20] public validation Loss: 1.2745, Accuracy: 51.6857\n",
            "learning_rate: 0.01\n",
            "Epoch [5/20] Training Loss: 1.1987, Accuracy: 54.5195\n",
            "Epoch [5/20] private validation Loss: 1.2150, Accuracy: 53.1903\n"
          ],
          "name": "stdout"
        },
        {
          "output_type": "stream",
          "text": [
            "\r 25%|██▌       | 5/20 [00:57<02:51, 11.43s/it]"
          ],
          "name": "stderr"
        },
        {
          "output_type": "stream",
          "text": [
            "Epoch [5/20] public validation Loss: 1.2015, Accuracy: 53.8312\n",
            "learning_rate: 0.01\n",
            "Epoch [6/20] Training Loss: 1.1622, Accuracy: 55.9372\n",
            "Epoch [6/20] private validation Loss: 1.1840, Accuracy: 54.2770\n"
          ],
          "name": "stdout"
        },
        {
          "output_type": "stream",
          "text": [
            "\r 30%|███       | 6/20 [01:08<02:39, 11.42s/it]"
          ],
          "name": "stderr"
        },
        {
          "output_type": "stream",
          "text": [
            "Epoch [6/20] public validation Loss: 1.2243, Accuracy: 53.9426\n",
            "learning_rate: 0.01\n",
            "Epoch [7/20] Training Loss: 1.1403, Accuracy: 57.1633\n",
            "Epoch [7/20] private validation Loss: 1.1384, Accuracy: 54.5834\n"
          ],
          "name": "stdout"
        },
        {
          "output_type": "stream",
          "text": [
            "\r 35%|███▌      | 7/20 [01:19<02:28, 11.41s/it]"
          ],
          "name": "stderr"
        },
        {
          "output_type": "stream",
          "text": [
            "Epoch [7/20] public validation Loss: 1.1788, Accuracy: 55.0014\n",
            "learning_rate: 0.01\n",
            "Epoch [8/20] Training Loss: 1.1237, Accuracy: 57.7728\n",
            "Epoch [8/20] private validation Loss: 1.1673, Accuracy: 55.3915\n"
          ],
          "name": "stdout"
        },
        {
          "output_type": "stream",
          "text": [
            "\r 40%|████      | 8/20 [01:31<02:16, 11.40s/it]"
          ],
          "name": "stderr"
        },
        {
          "output_type": "stream",
          "text": [
            "Epoch [8/20] public validation Loss: 1.1960, Accuracy: 54.0262\n",
            "learning_rate: 0.01\n",
            "Epoch [9/20] Training Loss: 1.1107, Accuracy: 58.1386\n",
            "Epoch [9/20] private validation Loss: 1.1639, Accuracy: 56.3945\n"
          ],
          "name": "stdout"
        },
        {
          "output_type": "stream",
          "text": [
            "\r 45%|████▌     | 9/20 [01:42<02:05, 11.39s/it]"
          ],
          "name": "stderr"
        },
        {
          "output_type": "stream",
          "text": [
            "Epoch [9/20] public validation Loss: 1.1880, Accuracy: 55.7816\n",
            "learning_rate: 0.01\n",
            "Epoch [10/20] Training Loss: 1.0984, Accuracy: 58.4904\n",
            "Epoch [10/20] private validation Loss: 1.1642, Accuracy: 54.7506\n"
          ],
          "name": "stdout"
        },
        {
          "output_type": "stream",
          "text": [
            "\r 50%|█████     | 10/20 [01:54<01:53, 11.39s/it]"
          ],
          "name": "stderr"
        },
        {
          "output_type": "stream",
          "text": [
            "Epoch [10/20] public validation Loss: 1.2151, Accuracy: 53.9147\n",
            "learning_rate: 0.01\n",
            "Epoch [11/20] Training Loss: 1.0917, Accuracy: 58.8039\n",
            "saving new model\n",
            "Epoch [11/20] private validation Loss: 1.1364, Accuracy: 56.5339\n",
            "saving new model\n"
          ],
          "name": "stdout"
        },
        {
          "output_type": "stream",
          "text": [
            "\r 55%|█████▌    | 11/20 [02:06<01:44, 11.65s/it]"
          ],
          "name": "stderr"
        },
        {
          "output_type": "stream",
          "text": [
            "Epoch [11/20] public validation Loss: 1.1632, Accuracy: 54.3884\n",
            "learning_rate: 0.01\n",
            "Epoch [12/20] Training Loss: 1.0861, Accuracy: 59.2427\n",
            "saving new model\n",
            "Epoch [12/20] private validation Loss: 1.1151, Accuracy: 56.6453\n"
          ],
          "name": "stdout"
        },
        {
          "output_type": "stream",
          "text": [
            "\r 60%|██████    | 12/20 [02:18<01:33, 11.72s/it]"
          ],
          "name": "stderr"
        },
        {
          "output_type": "stream",
          "text": [
            "Epoch [12/20] public validation Loss: 1.1701, Accuracy: 55.1407\n",
            "learning_rate: 0.01\n",
            "Epoch [13/20] Training Loss: 1.0740, Accuracy: 58.9397\n",
            "saving new model\n",
            "Epoch [13/20] private validation Loss: 1.0939, Accuracy: 58.2335\n",
            "saving new model\n"
          ],
          "name": "stdout"
        },
        {
          "output_type": "stream",
          "text": [
            "\r 65%|██████▌   | 13/20 [02:30<01:23, 11.97s/it]"
          ],
          "name": "stderr"
        },
        {
          "output_type": "stream",
          "text": [
            "Epoch [13/20] public validation Loss: 1.1535, Accuracy: 55.8930\n",
            "learning_rate: 0.01\n",
            "Epoch [14/20] Training Loss: 1.0685, Accuracy: 59.4901\n",
            "saving new model\n",
            "Epoch [14/20] private validation Loss: 1.0884, Accuracy: 57.7877\n"
          ],
          "name": "stdout"
        },
        {
          "output_type": "stream",
          "text": [
            "\r 70%|███████   | 14/20 [02:42<01:11, 11.94s/it]"
          ],
          "name": "stderr"
        },
        {
          "output_type": "stream",
          "text": [
            "saving new model\n",
            "Epoch [14/20] public validation Loss: 1.1273, Accuracy: 57.8434\n",
            "learning_rate: 0.01\n",
            "Epoch [15/20] Training Loss: 1.0599, Accuracy: 60.0265\n",
            "Epoch [15/20] private validation Loss: 1.1199, Accuracy: 58.6236\n"
          ],
          "name": "stdout"
        },
        {
          "output_type": "stream",
          "text": [
            "\r 75%|███████▌  | 15/20 [02:53<00:58, 11.78s/it]"
          ],
          "name": "stderr"
        },
        {
          "output_type": "stream",
          "text": [
            "saving new model\n",
            "Epoch [15/20] public validation Loss: 1.1024, Accuracy: 57.5648\n",
            "learning_rate: 0.01\n",
            "Epoch [16/20] Training Loss: 1.0571, Accuracy: 60.2146\n",
            "Epoch [16/20] private validation Loss: 1.0967, Accuracy: 58.7907\n"
          ],
          "name": "stdout"
        },
        {
          "output_type": "stream",
          "text": [
            "\r 80%|████████  | 16/20 [03:05<00:46, 11.66s/it]"
          ],
          "name": "stderr"
        },
        {
          "output_type": "stream",
          "text": [
            "Epoch [16/20] public validation Loss: 1.1179, Accuracy: 58.4564\n",
            "learning_rate: 0.01\n",
            "Epoch [17/20] Training Loss: 1.0442, Accuracy: 60.5803\n",
            "Epoch [17/20] private validation Loss: 1.0895, Accuracy: 56.9797\n"
          ],
          "name": "stdout"
        },
        {
          "output_type": "stream",
          "text": [
            "\r 85%|████████▌ | 17/20 [03:16<00:34, 11.58s/it]"
          ],
          "name": "stderr"
        },
        {
          "output_type": "stream",
          "text": [
            "Epoch [17/20] public validation Loss: 1.1231, Accuracy: 57.8155\n",
            "learning_rate: 0.01\n",
            "Epoch [18/20] Training Loss: 1.0440, Accuracy: 60.6360\n",
            "Epoch [18/20] private validation Loss: 1.1078, Accuracy: 57.8434\n"
          ],
          "name": "stdout"
        },
        {
          "output_type": "stream",
          "text": [
            "\r 90%|█████████ | 18/20 [03:28<00:23, 11.51s/it]"
          ],
          "name": "stderr"
        },
        {
          "output_type": "stream",
          "text": [
            "Epoch [18/20] public validation Loss: 1.1630, Accuracy: 56.3110\n",
            "learning_rate: 0.01\n",
            "Epoch [19/20] Training Loss: 1.0411, Accuracy: 60.5072\n",
            "saving new model\n",
            "Epoch [19/20] private validation Loss: 1.0756, Accuracy: 58.6793\n"
          ],
          "name": "stdout"
        },
        {
          "output_type": "stream",
          "text": [
            "\r 95%|█████████▌| 19/20 [03:39<00:11, 11.61s/it]"
          ],
          "name": "stderr"
        },
        {
          "output_type": "stream",
          "text": [
            "Epoch [19/20] public validation Loss: 1.1357, Accuracy: 57.1468\n",
            "learning_rate: 0.01\n",
            "Epoch [20/20] Training Loss: 1.0359, Accuracy: 60.7858\n",
            "saving new model\n",
            "Epoch [20/20] private validation Loss: 1.0627, Accuracy: 59.6545\n",
            "saving new model\n"
          ],
          "name": "stdout"
        },
        {
          "output_type": "stream",
          "text": [
            "100%|██████████| 20/20 [03:51<00:00, 11.60s/it]"
          ],
          "name": "stderr"
        },
        {
          "output_type": "stream",
          "text": [
            "Epoch [20/20] public validation Loss: 1.0958, Accuracy: 58.3449\n",
            "Time Taken-  1963.797435283661  seconds\n"
          ],
          "name": "stdout"
        },
        {
          "output_type": "stream",
          "text": [
            "\n"
          ],
          "name": "stderr"
        }
      ]
    },
    {
      "cell_type": "code",
      "metadata": {
        "colab": {
          "base_uri": "https://localhost:8080/"
        },
        "id": "fmUb78ojaJ25",
        "outputId": "10fea90a-4cd3-4093-e74c-045fbedcef0f"
      },
      "source": [
        "print('Epoch:',20)\n",
        "print('Train loss:',float(train_losses_w[-1]))\n",
        "print('Train accuracy:',float(train_accs_w[-1]))\n",
        "print('Private test loss:',float(p_test_losses_w[-1]))\n",
        "print('Private test accuracy:',float(p_test_accs_w[-1]))"
      ],
      "execution_count": null,
      "outputs": [
        {
          "output_type": "stream",
          "text": [
            "Epoch: 20\n",
            "Train loss: 1.035901427268982\n",
            "Train accuracy: 60.78581629454178\n",
            "Private test loss: 1.0627374649047852\n",
            "Private test accuracy: 59.654499860685426\n"
          ],
          "name": "stdout"
        }
      ]
    },
    {
      "cell_type": "code",
      "metadata": {
        "id": "q3C-2ridcRCN"
      },
      "source": [
        "def main3():\n",
        "  guided_backprop(\n",
        "    images=[\n",
        "      {'path': 'test/angry.jpg'},\n",
        "      {'path': 'test/happy.jpg'},\n",
        "      {'path': 'test/sad.jpg'},\n",
        "      {'path': 'test/surprised.jpg'},\n",
        "    ],\n",
        "    model_name='private_model_20_59.t7'\n",
        "  )\n",
        "\n",
        "if __name__ == \"__main__\":\n",
        "  main3()"
      ],
      "execution_count": null,
      "outputs": []
    },
    {
      "cell_type": "markdown",
      "metadata": {
        "id": "gX559EvEh5A1"
      },
      "source": [
        "Train the model with class-reweighted training set with each class having 1/7 weight ratio of the total number of training data. Notice that class-reweighting is done when computing the cross entropy loss to overcome the problem of training on unbalanced data set.<br><br>\n",
        "Training the class-reweighted model with 20 epoches, the training accuracy increases from 59.6% to 60.7% and the private training accuracy increases from 58.7% to 59.6%. Both the training loss and test loss decrease.<br><br> \n",
        "More specifically, below is the comparison of original output and class-reweighted output. For the test folder, notice that the confidence scores for each image are increased and the model classified each input correctly. For the test2 folder, even though the model still makes two misclassifications. The confidence score for the happy face has increased as well as the other faces. This indicates the improvement of model performance."
      ]
    },
    {
      "cell_type": "markdown",
      "metadata": {
        "id": "0jwefhwB0jZh"
      },
      "source": [
        "### 7."
      ]
    },
    {
      "cell_type": "markdown",
      "metadata": {
        "id": "xnEEbCaM0qzZ"
      },
      "source": [
        "*  Q: How does the selected method improve the model?\n",
        "*  A: Class-reweighting method balances the frequency of each class in the training set. It assigns fixed ratios to each class in order to lower down the proportion of frequent occuring classes or increase the proportion of less frequent occuring classes. This would make the training set unbiased. Ideally, meaning the model performance will be improved by learning features from a complete and unbiased data set that contains a balanced set of different classes.\n",
        "\n",
        "*  Q: Explanation of approach & limitations:\n",
        "*  A: To overcome the issue of missing learning important features from the traingin set by undersampling or introducing duplicate samples by oversampling. I simply add weights to the cross entropy loss function when computing the loss. Specifically, assign different weights to the computed loss value for each sample based on the class it belongs to. That is low weight should be assigned to samples of majority class and high weight should be assigned to samples of minority class. Intuitively, this makes the loss function to penalize the model less on learning samples from the majority class and more on learning samples from the minority class. That effectively trains the model to learn comprehensively from both classes which would reduce the effects of training on biased data set.<br>\n",
        "There are some limitions. First, there are many different weighting schemes. Sometimes, one scheme is better than the others. Thus, to effectively solve the problem of class imbalance, model should be trained using different weighting schemes and then compare the performance after all trainings are done. This could be problematic when the training set is large or training on complex structured models like deep neural networks with multiple layers. That is time consuming and unpractical to do. Second, when the classes are all large, class-reweighting might not be effective. Since that will cause the weights to be extremely small, and causing the computed loss to be extremely small. Small loss might lead to the problem of model underfitting. \n",
        "\n"
      ]
    }
  ]
}